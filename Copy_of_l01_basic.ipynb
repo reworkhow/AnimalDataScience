{
  "cells": [
    {
      "cell_type": "markdown",
      "metadata": {
        "id": "view-in-github",
        "colab_type": "text"
      },
      "source": [
        "<a href=\"https://colab.research.google.com/github/reworkhow/AnimalDataScience/blob/main/Copy_of_l01_basic.ipynb\" target=\"_parent\"><img src=\"https://colab.research.google.com/assets/colab-badge.svg\" alt=\"Open In Colab\"/></a>"
      ]
    },
    {
      "cell_type": "markdown",
      "metadata": {
        "id": "Z3quMzdZlNmE"
      },
      "source": [
        "# Basic Image Programming in Python\n",
        "**Author**: James Chen, School of Animal Sciences, Virginia Tech\n",
        "\n",
        "**Date**: Aug 3, 2022"
      ]
    },
    {
      "cell_type": "markdown",
      "metadata": {
        "id": "3YRTf9lIlNmH"
      },
      "source": [
        "## **Set up the environment**\n",
        "### Clone the repository (demo data and scripts)"
      ]
    },
    {
      "cell_type": "code",
      "execution_count": 1,
      "metadata": {
        "colab": {
          "base_uri": "https://localhost:8080/"
        },
        "id": "AP1vc8X8lNmI",
        "outputId": "17bea995-56d4-4481-95bd-3f2f74aee0c4"
      },
      "outputs": [
        {
          "output_type": "stream",
          "name": "stdout",
          "text": [
            "Cloning into 'intro_to_phenomics'...\n",
            "remote: Enumerating objects: 318, done.\u001b[K\n",
            "remote: Counting objects: 100% (7/7), done.\u001b[K\n",
            "remote: Compressing objects: 100% (7/7), done.\u001b[K\n",
            "remote: Total 318 (delta 0), reused 2 (delta 0), pack-reused 311\u001b[K\n",
            "Receiving objects: 100% (318/318), 66.54 MiB | 18.83 MiB/s, done.\n",
            "Resolving deltas: 100% (108/108), done.\n"
          ]
        }
      ],
      "source": [
        "# use a exclamation mark, \"!\", to call Shell command in Python\n",
        "!git clone https://github.com/vt-ads/intro_to_phenomics"
      ]
    },
    {
      "cell_type": "markdown",
      "metadata": {
        "id": "i6UAPUARlNmJ"
      },
      "source": [
        "### Change the working directory"
      ]
    },
    {
      "cell_type": "code",
      "execution_count": 2,
      "metadata": {
        "colab": {
          "base_uri": "https://localhost:8080/"
        },
        "id": "PhXlJLP-lNmK",
        "outputId": "20e9018d-1997-44d3-8785-4adcbc1457a8"
      },
      "outputs": [
        {
          "output_type": "stream",
          "name": "stdout",
          "text": [
            "Current folder:  /content/intro_to_phenomics\n"
          ]
        }
      ],
      "source": [
        "import os\n",
        "# change WD\n",
        "os.chdir(\"/content/intro_to_phenomics\")\n",
        "# print WD\n",
        "print(\"Current folder: \", os.getcwd())"
      ]
    },
    {
      "cell_type": "markdown",
      "metadata": {
        "id": "2mG7QJj0lNmK"
      },
      "source": [
        "## **NumPy**\n",
        "Numpy is one of the mostly used Python library in data sciences. It provides an versatile interface for users to manipulate multi-dimensional arrays, particularlly for image data.\n",
        "In this chapter, we will cover the basic usages of NumPy, including indexing, reshaping, and basic visualization."
      ]
    },
    {
      "cell_type": "markdown",
      "metadata": {
        "id": "STrBn6-elNmL"
      },
      "source": [
        "### **Load NumPy**\n",
        "Practically, we use `np` as an aliase name for the NumPy library. But the aliase can also be other arbitrary names."
      ]
    },
    {
      "cell_type": "code",
      "execution_count": 4,
      "metadata": {
        "id": "_lXZKZ1WlNmL",
        "colab": {
          "base_uri": "https://localhost:8080/",
          "height": 35
        },
        "outputId": "7ac04f57-edfd-4fce-9d9a-949ea47d8960"
      },
      "outputs": [
        {
          "output_type": "execute_result",
          "data": {
            "text/plain": [
              "'1.21.6'"
            ],
            "application/vnd.google.colaboratory.intrinsic+json": {
              "type": "string"
            }
          },
          "metadata": {},
          "execution_count": 4
        }
      ],
      "source": [
        "# load NumPy\n",
        "import numpy as np\n",
        "# validate the library version\n",
        "np.__version__"
      ]
    },
    {
      "cell_type": "markdown",
      "metadata": {
        "id": "0cV037zXlNmN"
      },
      "source": [
        "#### Exercise 1.1\n",
        "Try to name it differently and validate its version number"
      ]
    },
    {
      "cell_type": "code",
      "execution_count": 9,
      "metadata": {
        "id": "DU_-GPI1lNmN",
        "colab": {
          "base_uri": "https://localhost:8080/",
          "height": 35
        },
        "outputId": "0d714944-d00c-4309-a1c8-6b97ce8290cc"
      },
      "outputs": [
        {
          "output_type": "execute_result",
          "data": {
            "text/plain": [
              "'1.21.6'"
            ],
            "application/vnd.google.colaboratory.intrinsic+json": {
              "type": "string"
            }
          },
          "metadata": {},
          "execution_count": 9
        }
      ],
      "source": [
        "# load NumPy\n",
        "import numpy as np2\n",
        "# check NumPy version using your aliase name\n",
        "np2.__version__"
      ]
    },
    {
      "cell_type": "markdown",
      "metadata": {
        "id": "dLS_B0MwlNmO"
      },
      "source": [
        "#### Exercise 1.2\n",
        "Load your own functions\n",
        "\n",
        "<center><img src=\"https://github.com/vt-ads/intro_to_phenomics/blob/main/res/l01/imports.png?raw=1\" width=\"800\"/></center>\n",
        "\n",
        "Load the function `make_X` from the script `modules/LS.py`"
      ]
    },
    {
      "cell_type": "code",
      "execution_count": 12,
      "metadata": {
        "id": "M4ObyHvElNmO",
        "colab": {
          "base_uri": "https://localhost:8080/"
        },
        "outputId": "dd905c4c-b9f5-42ca-c065-2b2c2d54b890"
      },
      "outputs": [
        {
          "output_type": "execute_result",
          "data": {
            "text/plain": [
              "<function modules.LS.make_X>"
            ]
          },
          "metadata": {},
          "execution_count": 12
        }
      ],
      "source": [
        "# import modules\n",
        "from modules.LS import make_X \n",
        "# validate the function by calling it\n",
        "make_X"
      ]
    },
    {
      "cell_type": "markdown",
      "metadata": {
        "id": "mkTgTNIvlNmP"
      },
      "source": [
        "### **Create a 1D array**"
      ]
    },
    {
      "cell_type": "markdown",
      "metadata": {
        "id": "OZBO5r_ZlNmP"
      },
      "source": [
        "#### Explicitly define the values\n",
        "Use `[]` to represent a list (array)"
      ]
    },
    {
      "cell_type": "code",
      "execution_count": 13,
      "metadata": {
        "id": "izljcjiflNmQ",
        "colab": {
          "base_uri": "https://localhost:8080/"
        },
        "outputId": "0edb96e0-1971-4ca7-c5f8-d4f323b8c182"
      },
      "outputs": [
        {
          "output_type": "stream",
          "name": "stdout",
          "text": [
            "[1, 2, 3, 4]\n"
          ]
        }
      ],
      "source": [
        "# create a list (array)\n",
        "array = [1, 2, 3, 4]\n",
        "print(array)"
      ]
    },
    {
      "cell_type": "markdown",
      "metadata": {
        "id": "txLY2paTlNmQ"
      },
      "source": [
        "`np.array()`: instantiate a NumPy array (https://numpy.org/doc/stable/reference/generated/numpy.array.html)"
      ]
    },
    {
      "cell_type": "code",
      "execution_count": 14,
      "metadata": {
        "id": "fadmxkRTlNmQ",
        "colab": {
          "base_uri": "https://localhost:8080/"
        },
        "outputId": "36c88549-a3e4-4482-8e88-c03a19c81f54"
      },
      "outputs": [
        {
          "output_type": "stream",
          "name": "stdout",
          "text": [
            "[1 2 3 4]\n"
          ]
        }
      ],
      "source": [
        "# assign the list to a NumPy array\n",
        "array = [1, 2, 3, 4]\n",
        "array_np = np.array(array)\n",
        "# it is equivalent\n",
        "array_np = np.array([1, 2, 3, 4])\n",
        "# print the result\n",
        "print(array_np)"
      ]
    },
    {
      "cell_type": "markdown",
      "metadata": {
        "id": "jdmMwNGplNmR"
      },
      "source": [
        "#### All-zero or all-one vectors/matrices\n",
        "<center><img src=\"https://github.com/vt-ads/intro_to_phenomics/blob/main/res/l01/mask.png?raw=1\" width=\"800\"/></center>\n",
        "\n",
        "`np.zeros()`: create an array of all zeros (https://numpy.org/doc/stable/reference/generated/numpy.zeros.html)\n",
        "\n",
        "`np.ones()`: create an array of all zeros (https://numpy.org/doc/stable/reference/generated/numpy.ones.html)\n",
        "\n",
        "This technique is very useful when you want to generate a binary vector/matrix to indicate signals of interest."
      ]
    },
    {
      "cell_type": "code",
      "execution_count": null,
      "metadata": {
        "id": "GN0Xmos5lNmR"
      },
      "outputs": [],
      "source": [
        "array_zeros = np.zeros(4)\n",
        "print(array_zeros)"
      ]
    },
    {
      "cell_type": "code",
      "execution_count": null,
      "metadata": {
        "id": "6rGOo0rBlNmR"
      },
      "outputs": [],
      "source": [
        "array_ones = np.ones(4)\n",
        "print(array_ones)"
      ]
    },
    {
      "cell_type": "markdown",
      "metadata": {
        "id": "YFLB3EhZlNmR"
      },
      "source": [
        "#### Arithmetic sequence\n",
        "`np.arange()`: create a sequence defined by an interval\n",
        "(https://numpy.org/doc/stable/reference/generated/numpy.arange.html)\n",
        "\n",
        "`np.linspace()`: create a sequence defined by a size (https://numpy.org/doc/stable/reference/generated/numpy.linspace.html)\n",
        "\n",
        "A way to subset (downsample) a dataset or an image.\n",
        "<center><img src=\"https://github.com/vt-ads/intro_to_phenomics/blob/main/res/l01/downsample.png?raw=1\" width=\"1000\"/></center>\n"
      ]
    },
    {
      "cell_type": "code",
      "execution_count": null,
      "metadata": {
        "id": "gmVD8eT1lNmS"
      },
      "outputs": [],
      "source": [
        "# np.arange(start, stop, interval)\n",
        "array_seq_interval = np.arange(1, 10, 2.5)\n",
        "print(array_seq_interval)"
      ]
    },
    {
      "cell_type": "code",
      "execution_count": null,
      "metadata": {
        "id": "g_R-3oWelNmS"
      },
      "outputs": [],
      "source": [
        "# np.linspace(start, stop, size)\n",
        "array_seq_size = np.linspace(1, 10, 4)\n",
        "print(array_seq_size)"
      ]
    },
    {
      "cell_type": "markdown",
      "metadata": {
        "id": "Iara5Vk6lNmS"
      },
      "source": [
        "#### Display arrays\n",
        "`print()`: Display results in a reader-friendly way. This is very helpful when ones need to debug their codes without using a debugger."
      ]
    },
    {
      "cell_type": "code",
      "execution_count": null,
      "metadata": {
        "id": "ZOtg0zAvlNmS"
      },
      "outputs": [],
      "source": [
        "print(\"A list of numbers: \", array_np)\n",
        "print(\"A list of zeros:   \", array_zeros)\n",
        "print(\"A list of ones:    \", array_ones)\n",
        "print(\"A sequence assigned by an interval: \", array_seq_interval)\n",
        "print(\"A sequence assigned by a size:      \", array_seq_size)"
      ]
    },
    {
      "cell_type": "markdown",
      "metadata": {
        "id": "QwTIPJbNlNmT"
      },
      "source": [
        "#### Exercise 2\n",
        "Create an array with the same elements `[5, 10, 15, 20]` using two different functions: `np.linspace()` and `np.arange()`"
      ]
    },
    {
      "cell_type": "code",
      "execution_count": null,
      "metadata": {
        "id": "2OtFOhp6lNmT"
      },
      "outputs": [],
      "source": [
        "# Fill in correct parameters\n",
        "array_A = np.linspace(pass)\n",
        "array_B = np.arange(pass)\n",
        "\n",
        "print(\"array_A \", array_A)\n",
        "print(\"array_B \", array_B)"
      ]
    },
    {
      "cell_type": "markdown",
      "metadata": {
        "id": "B5C9mXeDlNmT"
      },
      "source": [
        "### **Multi-dimensional matrix**\n",
        "NumPy is also capable of dealing with N-dimensional data structure. Here we will introduce several ways to create an N-dimensional matrix."
      ]
    },
    {
      "cell_type": "markdown",
      "metadata": {
        "id": "MB2Un_GflNmT"
      },
      "source": [
        "Explicitly assign values to create a 2D matirx"
      ]
    },
    {
      "cell_type": "code",
      "execution_count": null,
      "metadata": {
        "id": "WHw8psb5lNmT"
      },
      "outputs": [],
      "source": [
        "A = np.array([[1, 2, 3],\n",
        "              [4, 5, 6]])\n",
        "print(A)"
      ]
    },
    {
      "cell_type": "markdown",
      "metadata": {
        "id": "AjQtgZDtlNmT"
      },
      "source": [
        "#### Shape\n",
        "In Python, `Shape` is an important component used to describe the dimension of a matrix. `Shape` in Python can be defined by a tuple, `()`.\n",
        "\n",
        "`np.shape()`: examine the matrix dimension (https://numpy.org/doc/stable/reference/generated/numpy.shape.html)"
      ]
    },
    {
      "cell_type": "code",
      "execution_count": null,
      "metadata": {
        "id": "WAufZ-9UlNmT"
      },
      "outputs": [],
      "source": [
        "# (row, column)\n",
        "print(\"Matrix\\n\", A)\n",
        "print(\"\\n\")\n",
        "print(\"Shape: \", A.shape)"
      ]
    },
    {
      "cell_type": "markdown",
      "metadata": {
        "id": "w5aPLVaylNmU"
      },
      "source": [
        "Create a all-zero or all-one nd-matrix by assigning the dimension (`shape`)."
      ]
    },
    {
      "cell_type": "code",
      "execution_count": null,
      "metadata": {
        "id": "08W65VWHlNmU"
      },
      "outputs": [],
      "source": [
        "# shape: (row, column)\n",
        "shape = (2, 3)\n",
        "B = np.zeros(shape)\n",
        "print(\"B\\n\", B)\n",
        "\n",
        "# shape: (row, column, channel)\n",
        "C = np.ones((2, 3, 4))\n",
        "print(\"C\\n\", C)"
      ]
    },
    {
      "cell_type": "markdown",
      "metadata": {
        "id": "ZGbUJjsalNmU"
      },
      "source": [
        "In a convolutional neural network, flattening a matrix is a common approach to turn an image matrix into a regression vector.\n",
        "\n",
        "<center><img src=\"https://github.com/vt-ads/intro_to_phenomics/blob/main/res/l01/cnn.png?raw=1\" width=\"800\"/></center>\n",
        "\n",
        "<center><img src=\"https://github.com/vt-ads/intro_to_phenomics/blob/main/res/l01/flatten.png?raw=1\" width=\"800\"/></center>\n",
        "\n",
        "\n",
        "`np.reshape()`: a handy function to turn a one-dimension array to a two-dimension matrix.\n",
        "(https://numpy.org/doc/stable/reference/generated/numpy.reshape.html)\n",
        "\n",
        "`np.flatten()`: \"flatten\" the matrix back to a one-dimension array using the function (https://numpy.org/doc/stable/reference/generated/numpy.ndarray.flatten.html)\n"
      ]
    },
    {
      "cell_type": "code",
      "execution_count": null,
      "metadata": {
        "id": "-uInNhq4lNmU"
      },
      "outputs": [],
      "source": [
        "# create a 1D array with 6 elements\n",
        "a = np.array([1, 2, 3, 4, 5, 6])\n",
        "print(\"'a'\\n\", a)\n",
        "\n",
        "# reshape it into a 2D array, with 2 rows and 3 columns\n",
        "a_reshape = a.reshape((2, 3))\n",
        "print(\"\\nReshaped 'a' (2x3)\\n\", a_reshape)"
      ]
    },
    {
      "cell_type": "code",
      "execution_count": null,
      "metadata": {
        "id": "ht-ALKv7lNmV"
      },
      "outputs": [],
      "source": [
        "a_reshape.flatten()"
      ]
    },
    {
      "cell_type": "markdown",
      "metadata": {
        "id": "UTWHqm3zlNmV"
      },
      "source": [
        "#### CNN example\n",
        "https://www.cs.cmu.edu/~aharley/vis/conv/flat.html\n",
        "\n",
        "<center><img src=\"https://github.com/vt-ads/intro_to_phenomics/blob/main/res/l01/cnn_cmu.png?raw=1\" width=\"600\"/></center>\n",
        "\n"
      ]
    },
    {
      "cell_type": "markdown",
      "metadata": {
        "id": "oZI0JdmElNmV"
      },
      "source": [
        "#### Exercise 3\n",
        "* Make a 3D array: $[\\begin{bmatrix} 1 & 2 & 3 \\\\ 4 & 5 & 6 \\end{bmatrix}$, $\\begin{bmatrix} 7 & 8 & 9 \\\\ 10 & 11 & 12 \\end{bmatrix}]$\n",
        "\n",
        "* Flatten it to a 1D array. The expected flatten array is: $\\begin{bmatrix} 1& 2& 3& 4& 5& 6& 7& 8& 9& 10& 11& 12\\end{bmatrix}$\n"
      ]
    },
    {
      "cell_type": "code",
      "execution_count": null,
      "metadata": {
        "id": "uKSaXnRvlNmV"
      },
      "outputs": [],
      "source": [
        "array_3d = np.array(pass)\n",
        "flatten_array = pass\n",
        "print(flatten_array)"
      ]
    },
    {
      "cell_type": "markdown",
      "metadata": {
        "id": "DhNDvRoylNmV"
      },
      "source": [
        "### **Indexing and slicing**\n",
        "Indexing is a flexible way to subset the matrix by certain conditions (e.g., positions, values). First, we will create a two-dimension matrix. Note that we can connect multiple functions in one line using dot `.` to enhance the readability (It is called piping `|` in Unix)."
      ]
    },
    {
      "cell_type": "code",
      "execution_count": null,
      "metadata": {
        "id": "x2Cn1QFulNmV"
      },
      "outputs": [],
      "source": [
        "# create a 2D matrix with 5 rows and 6 columns\n",
        "data = np.linspace(1, 30, 30).reshape((5, 6))\n",
        "print(\"data shape: \", data.shape)\n",
        "print(data)"
      ]
    },
    {
      "cell_type": "markdown",
      "metadata": {
        "id": "C6AzqGm0lNmV"
      },
      "source": [
        "#### Indexing\n",
        "A 2D-matrix is stored in the order of [rows, columns] and is indexed by `0-based` indexing. For exaple, if we want to call the first (index = 0) column, we can do:"
      ]
    },
    {
      "cell_type": "code",
      "execution_count": null,
      "metadata": {
        "id": "L3A3akZSlNmW"
      },
      "outputs": [],
      "source": [
        "# Use \":\" to return all elements in that specific dimension.\n",
        "# In our case, it returns all numbers from the `first` column\n",
        "data[:, 0]"
      ]
    },
    {
      "cell_type": "markdown",
      "metadata": {
        "id": "k2TXgauylNmW"
      },
      "source": [
        "We can also query a single element, for example, the number in the `second` (index = 1) rows and the `third` (index = 2) column."
      ]
    },
    {
      "cell_type": "code",
      "execution_count": null,
      "metadata": {
        "id": "4qdsx2MJlNmW"
      },
      "outputs": [],
      "source": [
        "# [row, column]\n",
        "data[1, 2]"
      ]
    },
    {
      "cell_type": "markdown",
      "metadata": {
        "id": "kgiy9WIjlNmW"
      },
      "source": [
        "It's also possible to call the last N elements using negative index. For example, we can call `the last second row` by:"
      ]
    },
    {
      "cell_type": "code",
      "execution_count": null,
      "metadata": {
        "id": "bbcj75tilNmW"
      },
      "outputs": [],
      "source": [
        "data[-2, ]"
      ]
    },
    {
      "cell_type": "markdown",
      "metadata": {
        "id": "nRoBldcDlNmW"
      },
      "source": [
        "#### Slicing\n",
        "Slicing a matrix allows you to query a range of elements. Below we want to fetch elements between the `second` row and the `fourth` row, and the `third` column and the `fifth` column."
      ]
    },
    {
      "cell_type": "code",
      "execution_count": null,
      "metadata": {
        "id": "ouSmuhkBlNmW"
      },
      "outputs": [],
      "source": [
        "data[1:4, 2:5]"
      ]
    },
    {
      "cell_type": "markdown",
      "metadata": {
        "id": "Kv2yfv00lNmW"
      },
      "source": [
        "Use double colon `::` to extract every two columns (i.e., 1st, 3rd, and 5th) from the matrix."
      ]
    },
    {
      "cell_type": "code",
      "execution_count": null,
      "metadata": {
        "id": "60aGYe-xlNmW"
      },
      "outputs": [],
      "source": [
        "data[:, ::2]"
      ]
    },
    {
      "cell_type": "markdown",
      "metadata": {
        "id": "xHAsQzISlNmX"
      },
      "source": [
        "#### Exercise 4\n",
        "Start with an array $x = [\\begin{bmatrix} 1 & 2 & 3 \\\\ 4 & 5 & 6 \\end{bmatrix}$, $\\begin{bmatrix} 7 & 8 & 9 \\\\ 10 & 11 & 12 \\end{bmatrix}]$. Use indexing, slicing, and `np.flatten()` to generate an array $y = \\begin{bmatrix} 1& 4& 3& 6\\end{bmatrix}$"
      ]
    },
    {
      "cell_type": "code",
      "execution_count": null,
      "metadata": {
        "id": "qK3H0RmhlNmX"
      },
      "outputs": [],
      "source": [
        "x = (np.arange(12) + 1).reshape((2, 2, 3))\n",
        "y = x[pass].flatten()\n",
        "print(y)"
      ]
    },
    {
      "cell_type": "markdown",
      "metadata": {
        "id": "yedkm43FlNmX"
      },
      "source": [
        "### **Basic statistics**\n",
        "Several basic summary statistics, including `mean` and `standard deviation`, can be derived in a `NumPy` matrix."
      ]
    },
    {
      "cell_type": "code",
      "execution_count": null,
      "metadata": {
        "id": "rbIRHlSzlNmX"
      },
      "outputs": [],
      "source": [
        "# create a 3d array in a dimension of (3, 2, 5)\n",
        "data = np.arange(1, 31, 1).reshape(3, 2, 5)\n",
        "print(\"Data\\n\", data)\n",
        "print(\"\\n\")\n",
        "print(\"The data mean is\", data.mean()) # np.mean(data)\n",
        "print(\"The data standard deviation is\", data.std()) # np.std(data)\n",
        "print(\"The data median is\", np.median(data))\n",
        "print(\"The 25th quantile of the data is\", np.quantile(data, 0.25))"
      ]
    },
    {
      "cell_type": "markdown",
      "metadata": {
        "id": "bM9MIgIQlNmX"
      },
      "source": [
        "#### Summarize data by axis\n",
        "<center><img src=\"https://github.com/vt-ads/intro_to_phenomics/blob/main/res/l01/axis.png?raw=1\" width=\"900\"/></center>\n",
        "\n",
        "It's possible to calculate statistics by dimensions. Use the parameter `axis` to specify which dimension is summarized and calculated. This function is handy in processing multispectral/hyperspectral images."
      ]
    },
    {
      "cell_type": "code",
      "execution_count": null,
      "metadata": {
        "id": "AGqatF-zlNmX"
      },
      "outputs": [],
      "source": [
        "print(\"Data dimension: \", data.shape) # (channel, row, column)\n",
        "print(\"Data matrix\\n\", data)\n",
        "print(\"\\n\")\n",
        "pixel_sum = data.sum(axis=0)\n",
        "print(\"The sum of all three channel values: \\n\", pixel_sum)"
      ]
    },
    {
      "cell_type": "markdown",
      "metadata": {
        "id": "-DEVgXwrlNmY"
      },
      "source": [
        "#### Excercise 5\n",
        "<center><img src=\"https://github.com/vt-ads/intro_to_phenomics/blob/main/res/l01/means.png?raw=1\" width=\"500\"/></center>"
      ]
    },
    {
      "cell_type": "markdown",
      "metadata": {
        "id": "U5MS2bfelNmY"
      },
      "source": [
        "Use either `np.arange()` or `np.linspace()` and `np.reshape()` to create a 2D matrix, $X$. And calculate average values of each row in $X$ using `np.mean()` and the parameter `axis`."
      ]
    },
    {
      "cell_type": "code",
      "execution_count": null,
      "metadata": {
        "id": "sSXagf4ElNmY"
      },
      "outputs": [],
      "source": [
        "X = pass\n",
        "means = np.mean(X, axis=pass)\n",
        "print(means)"
      ]
    },
    {
      "cell_type": "markdown",
      "metadata": {
        "id": "CqU5FbNJlNma"
      },
      "source": [
        "## Matplotlib\n",
        "`Matplotlib` is a basic visualization library in Python. Its functionalities are similar to `plot()` in `Julia` and `R`. In this section, we will use a demo image to practice the usages of `NumPy`, and we can use `Matplotlib` for data visualization to validate our results."
      ]
    },
    {
      "cell_type": "markdown",
      "metadata": {
        "id": "sXffApyxlNma"
      },
      "source": [
        "### **Load Matplotlib**\n",
        "`Matplotlib` contains several submodules. To implement matrix visualization, we only need to import the submodule `pyplot` from `Matplotlib` and rename it as `plt`."
      ]
    },
    {
      "cell_type": "code",
      "execution_count": null,
      "metadata": {
        "id": "GxZpMARZlNma"
      },
      "outputs": [],
      "source": [
        "# use dot \".\" to call its submodule\n",
        "import matplotlib.pyplot as plt\n",
        "# equivalent\n",
        "from matplotlib import pyplot as plt"
      ]
    },
    {
      "cell_type": "markdown",
      "metadata": {
        "id": "ftYw1aUPlNma"
      },
      "source": [
        "### **Load your first image**\n",
        "An image loader has been defined in the file `image_handler.py` and can be accessed by the keywords `from` and `import`."
      ]
    },
    {
      "cell_type": "code",
      "execution_count": null,
      "metadata": {
        "id": "5NgcdYORlNma"
      },
      "outputs": [],
      "source": [
        "# import pre-defined function\n",
        "from modules.image_handler import load_img\n",
        "\n",
        "# load the image file (you can use your own image, too!)\n",
        "image = load_img(\"data/cow.jpg\")"
      ]
    },
    {
      "cell_type": "markdown",
      "metadata": {
        "id": "lJ3OyYkrlNmb"
      },
      "source": [
        "Let's inspect how it looks like as a matrix.\n",
        "\n",
        "<center><img src=\"https://github.com/vt-ads/intro_to_phenomics/blob/main/res/l01/img_rgb.png?raw=1\" width=\"800\"/></center>"
      ]
    },
    {
      "cell_type": "code",
      "execution_count": null,
      "metadata": {
        "id": "OZ8zGbYslNmb"
      },
      "outputs": [],
      "source": [
        "# print the dimension: (row, column, channels)\n",
        "print(\"The matrix dimension is: \", image.shape)\n",
        "# print the matrix\n",
        "print(image)"
      ]
    },
    {
      "cell_type": "markdown",
      "metadata": {
        "id": "Xp8YQ5ttlNmb"
      },
      "source": [
        "`plt.imshow()` visualize an input image (https://matplotlib.org/stable/api/_as_gen/matplotlib.pyplot.imshow.html)"
      ]
    },
    {
      "cell_type": "code",
      "execution_count": null,
      "metadata": {
        "id": "iPazah66lNmb"
      },
      "outputs": [],
      "source": [
        "plt.figure(figsize=(15, 10))\n",
        "plt.imshow(image)\n",
        "print(\"The image dimension (h, w, c) =\", image.shape)"
      ]
    },
    {
      "cell_type": "markdown",
      "metadata": {
        "id": "HgOTHeFSlNmb"
      },
      "source": [
        "### **Image (matrix) manipulation**\n",
        "Now, it's time to apply `NumPy` functions we just learned to this image."
      ]
    },
    {
      "cell_type": "markdown",
      "metadata": {
        "id": "esM_9soVlNmb"
      },
      "source": [
        "#### Crop an image"
      ]
    },
    {
      "cell_type": "code",
      "execution_count": null,
      "metadata": {
        "id": "HQvPkIDelNmb"
      },
      "outputs": [],
      "source": [
        "# matrix slicing\n",
        "image_crop = image[450:900, 600:1300]\n",
        "plt.figure(figsize=(15, 10))\n",
        "plt.imshow(image_crop)\n",
        "print(\"The image dimension (h, w, c) =\", image_crop.shape)"
      ]
    },
    {
      "cell_type": "markdown",
      "metadata": {
        "id": "znPx4hK_lNmb"
      },
      "source": [
        "#### Flip an image (image augmentation)\n",
        "\n",
        "<center><img src=\"https://github.com/vt-ads/intro_to_phenomics/blob/main/res/l01/augmentation.png?raw=1\" width=\"800\"/></center>\n",
        "\n",
        "By doing this, we can increase the size of the training images by multiple times when we train a classifier ."
      ]
    },
    {
      "cell_type": "code",
      "execution_count": null,
      "metadata": {
        "id": "xL9WbVTllNmc"
      },
      "outputs": [],
      "source": [
        "# reversed index\n",
        "image_flip = image_crop[:, ::-1, :]\n",
        "plt.figure(figsize=(15, 10))\n",
        "plt.imshow(image_flip)\n",
        "print(\"The image dimension (h, w, c) =\", image_flip.shape)"
      ]
    },
    {
      "cell_type": "markdown",
      "metadata": {
        "id": "CJiOozqTlNmc"
      },
      "source": [
        "#### Down-sample an image\n",
        "This technique is essential to work with a pre-trained model."
      ]
    },
    {
      "cell_type": "code",
      "execution_count": null,
      "metadata": {
        "id": "cUDVqfZ0lNmc"
      },
      "outputs": [],
      "source": [
        "image_down = image[::20, ::20]\n",
        "plt.figure(figsize=(15, 10))\n",
        "plt.imshow(image_down)\n",
        "print(\"The image dimension (h, w, c) =\", image_down.shape)"
      ]
    },
    {
      "cell_type": "markdown",
      "metadata": {
        "id": "iMhtYSXjlNmc"
      },
      "source": [
        "#### Display a specific channel"
      ]
    },
    {
      "cell_type": "code",
      "execution_count": null,
      "metadata": {
        "id": "eI7BDX-nlNmc"
      },
      "outputs": [],
      "source": [
        "# The lighter the higher of greeness\n",
        "# the 2nd channel is a green chanel, display as grayscale\n",
        "plt.figure(figsize=(15, 10))\n",
        "plt.imshow(image_crop[:, :, 1], cmap=\"Greens\")\n",
        "plt.colorbar()"
      ]
    },
    {
      "cell_type": "markdown",
      "metadata": {
        "id": "EXl7-w5FlNmc"
      },
      "source": [
        "#### Summarize pixel information\n",
        "The colors black and white have least variation between channels. Can we visualize this theory?"
      ]
    },
    {
      "cell_type": "code",
      "execution_count": null,
      "metadata": {
        "id": "VMAUed4xlNmc"
      },
      "outputs": [],
      "source": [
        "# display the source image\n",
        "fig, axes = plt.subplots(nrows=1, ncols=2, figsize=(17, 10))\n",
        "axes[0].imshow(image_crop)\n",
        "axes[0].set_title(\"Original image\")\n",
        "# std image (the brighter the higher)\n",
        "axes[1].imshow(image_crop.std(axis=2), cmap=\"gray\")\n",
        "axes[1].set_title(\"Standard deviation of each pixel\")"
      ]
    },
    {
      "cell_type": "markdown",
      "metadata": {
        "id": "-uU-NhzrlNmc"
      },
      "source": [
        "#### Image histogram\n",
        "\n",
        "<center><img src=\"https://github.com/vt-ads/intro_to_phenomics/blob/main/res/l01/histogram.png?raw=1\" width=\"800\"/></center>\n",
        "\n",
        "Image histogram is a plot to visualize the distribution of pixel values in each channel. This plot allows us to visually inspect if the image is correctly exposured, or, for example, if any channel has significant higher signals than other channels.\n",
        "\n",
        "<center><img src=\"https://github.com/vt-ads/intro_to_phenomics/blob/main/res/l01/hist_trans.png?raw=1\" width=\"800\"/></center>\n",
        "\n",
        "We can change the image dimension and make it easier to access to each channel."
      ]
    },
    {
      "cell_type": "code",
      "execution_count": null,
      "metadata": {
        "id": "qlQ6qFfelNmc"
      },
      "outputs": [],
      "source": [
        "# use \"-1\" to let Python figure out the remaining dimension\n",
        "print(\"original dimension \", image_crop.shape)\n",
        "\n",
        "# (pixels, channels)\n",
        "channels = image_crop.reshape((-1, 3))\n",
        "print(\"flattened dimension\", channels.shape)\n",
        "\n",
        "# (channels, pixels): let the channel axis become the first axis\n",
        "channels = channels.transpose()\n",
        "print(\"final dimension    \", channels.shape)"
      ]
    },
    {
      "cell_type": "code",
      "execution_count": null,
      "metadata": {
        "id": "-F8vU05TlNmd"
      },
      "outputs": [],
      "source": [
        "# since (r, g, b) are now on the first axis.\n",
        "red, green, blue = channels\n",
        "print(\"red:   \", red.shape)\n",
        "print(\"green: \", green.shape)\n",
        "print(\"blue:  \", blue.shape)"
      ]
    },
    {
      "cell_type": "code",
      "execution_count": null,
      "metadata": {
        "id": "NX8YfmFmlNmd"
      },
      "outputs": [],
      "source": [
        "# One-liners (use . to chain the result)\n",
        "red, green, blue = image_crop.reshape((-1, 3)).transpose()\n",
        "print(\"red:   \", red.shape)\n",
        "print(\"green: \", green.shape)\n",
        "print(\"blue:  \", blue.shape)"
      ]
    },
    {
      "cell_type": "code",
      "execution_count": null,
      "metadata": {
        "id": "eXVthoKYlNmd"
      },
      "outputs": [],
      "source": [
        "# define parameters\n",
        "params = dict(bins=30, alpha=.3, edgecolor=\"black\")\n",
        "colors = [\"red\", \"green\", \"blue\"]\n",
        "# plotting\n",
        "plt.figure(figsize=(10, 5))\n",
        "plt.title(\"Histogram of RGB channels\")\n",
        "for i, bar in enumerate([red, green, blue]):\n",
        "    # i is the iteration number starting from 0 (and 1, 2,...)\n",
        "    plt.hist(bar, color=colors[i], label=colors[i], **params)\n",
        "plt.legend(fontsize=20)"
      ]
    }
  ],
  "metadata": {
    "kernelspec": {
      "display_name": "Python 3.9.10 ('aikit')",
      "language": "python",
      "name": "python3"
    },
    "language_info": {
      "codemirror_mode": {
        "name": "ipython",
        "version": 3
      },
      "file_extension": ".py",
      "mimetype": "text/x-python",
      "name": "python",
      "nbconvert_exporter": "python",
      "pygments_lexer": "ipython3",
      "version": "3.9.10"
    },
    "orig_nbformat": 4,
    "vscode": {
      "interpreter": {
        "hash": "171765cd2d4b3fb19a4d5447669498b810cbcefc9297a20b45da55a7914d8111"
      }
    },
    "colab": {
      "name": "Copy of l01_basic.ipynb",
      "provenance": [],
      "include_colab_link": true
    }
  },
  "nbformat": 4,
  "nbformat_minor": 0
}